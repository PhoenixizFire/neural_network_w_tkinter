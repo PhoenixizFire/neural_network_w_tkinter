{
 "cells": [
  {
   "cell_type": "code",
   "execution_count": 1,
   "metadata": {
    "ExecuteTime": {
     "end_time": "2020-05-14T08:32:20.907850Z",
     "start_time": "2020-05-14T08:32:12.812360Z"
    }
   },
   "outputs": [],
   "source": [
    "import tensorflow as tf\n",
    "import numpy as np\n",
    "from tensorflow.keras.utils import to_categorical"
   ]
  },
  {
   "cell_type": "code",
   "execution_count": 2,
   "metadata": {
    "ExecuteTime": {
     "end_time": "2020-05-14T08:32:21.585480Z",
     "start_time": "2020-05-14T08:32:20.911821Z"
    }
   },
   "outputs": [],
   "source": [
    "(x_train, y_train), (x_test, y_test) = tf.keras.datasets.mnist.load_data()"
   ]
  },
  {
   "cell_type": "code",
   "execution_count": 3,
   "metadata": {
    "ExecuteTime": {
     "end_time": "2020-05-14T08:32:21.607445Z",
     "start_time": "2020-05-14T08:32:21.589439Z"
    }
   },
   "outputs": [
    {
     "data": {
      "text/plain": [
       "((60000, 28, 28), (10000, 28, 28))"
      ]
     },
     "execution_count": 3,
     "metadata": {},
     "output_type": "execute_result"
    }
   ],
   "source": [
    "x_train.shape,x_test.shape"
   ]
  },
  {
   "cell_type": "code",
   "execution_count": 4,
   "metadata": {
    "ExecuteTime": {
     "end_time": "2020-05-14T08:32:22.184095Z",
     "start_time": "2020-05-14T08:32:21.611427Z"
    }
   },
   "outputs": [],
   "source": [
    "# normalisation\n",
    "x_train, x_test = x_train/255., x_test/255.\n",
    "# 1-hot encoding\n",
    "y_train, y_test = to_categorical(y_train, dtype='int8'), to_categorical(y_test, dtype='int8')"
   ]
  },
  {
   "cell_type": "code",
   "execution_count": 5,
   "metadata": {
    "ExecuteTime": {
     "end_time": "2020-05-14T08:32:23.439256Z",
     "start_time": "2020-05-14T08:32:22.187093Z"
    }
   },
   "outputs": [],
   "source": [
    "inputs = tf.keras.Input(shape=(28, 28))\n",
    "x = tf.keras.layers.Flatten()(inputs)\n",
    "out = tf.keras.layers.Dense(100,activation='sigmoid')(x)\n",
    "outputs = tf.keras.layers.Dense(10, activation=\"softmax\")(out)\n",
    "model = tf.keras.Model(inputs, outputs, name=\"mono_couche_softmax\")\n",
    "#model.summary()"
   ]
  },
  {
   "cell_type": "code",
   "execution_count": 6,
   "metadata": {
    "ExecuteTime": {
     "end_time": "2020-05-14T08:32:23.506269Z",
     "start_time": "2020-05-14T08:32:23.442233Z"
    }
   },
   "outputs": [],
   "source": [
    "model.compile(\n",
    "    optimizer=\"sgd\",\n",
    "    loss=\"categorical_crossentropy\",\n",
    "    metrics=[tf.keras.metrics.CategoricalAccuracy(name=\"acc\")],\n",
    ")"
   ]
  },
  {
   "cell_type": "code",
   "execution_count": 8,
   "metadata": {
    "ExecuteTime": {
     "end_time": "2020-05-14T08:42:47.265655Z",
     "start_time": "2020-05-14T08:39:59.014084Z"
    }
   },
   "outputs": [
    {
     "name": "stdout",
     "output_type": "stream",
     "text": [
      "Train on 60000 samples\n",
      "Epoch 1/10\n",
      "60000/60000 [==============================] - 17s 289us/sample - loss: 0.2198 - acc: 0.9372\n",
      "Epoch 2/10\n",
      "60000/60000 [==============================] - 16s 272us/sample - loss: 0.2112 - acc: 0.9397\n",
      "Epoch 3/10\n",
      "60000/60000 [==============================] - 16s 273us/sample - loss: 0.2033 - acc: 0.9423\n",
      "Epoch 4/10\n",
      "60000/60000 [==============================] - 16s 272us/sample - loss: 0.1960 - acc: 0.9440\n",
      "Epoch 5/10\n",
      "60000/60000 [==============================] - 17s 283us/sample - loss: 0.1890 - acc: 0.9464\n",
      "Epoch 6/10\n",
      "60000/60000 [==============================] - 16s 269us/sample - loss: 0.1823 - acc: 0.9483\n",
      "Epoch 7/10\n",
      "60000/60000 [==============================] - 16s 260us/sample - loss: 0.1763 - acc: 0.9500\n",
      "Epoch 8/10\n",
      "60000/60000 [==============================] - 20s 333us/sample - loss: 0.1709 - acc: 0.9515\n",
      "Epoch 9/10\n",
      "60000/60000 [==============================] - 17s 281us/sample - loss: 0.1655 - acc: 0.9528\n",
      "Epoch 10/10\n",
      "60000/60000 [==============================] - 16s 271us/sample - loss: 0.1603 - acc: 0.9547\n"
     ]
    }
   ],
   "source": [
    "batch_size = 64\n",
    "history = model.fit(x_train, y_train, batch_size=10, epochs=10)"
   ]
  },
  {
   "cell_type": "code",
   "execution_count": 15,
   "metadata": {
    "ExecuteTime": {
     "end_time": "2020-05-14T08:47:36.441351Z",
     "start_time": "2020-05-14T08:47:36.333429Z"
    }
   },
   "outputs": [
    {
     "data": {
      "text/plain": [
       "array([[1.22010511e-04, 7.48668026e-05, 5.28627599e-04, 1.33033857e-01,\n",
       "        1.17268954e-07, 8.65609229e-01, 5.09145184e-06, 4.63348842e-04,\n",
       "        5.89219853e-05, 1.04033599e-04]], dtype=float32)"
      ]
     },
     "execution_count": 15,
     "metadata": {},
     "output_type": "execute_result"
    }
   ],
   "source": [
    "model.predict(x_train[0:1])"
   ]
  },
  {
   "cell_type": "code",
   "execution_count": 20,
   "metadata": {
    "ExecuteTime": {
     "end_time": "2020-05-14T08:48:46.100721Z",
     "start_time": "2020-05-14T08:48:46.092708Z"
    }
   },
   "outputs": [
    {
     "data": {
      "text/plain": [
       "array([0, 0, 0, 0, 0, 1, 0, 0, 0, 0], dtype=int8)"
      ]
     },
     "execution_count": 20,
     "metadata": {},
     "output_type": "execute_result"
    }
   ],
   "source": [
    "y_train[0]"
   ]
  },
  {
   "cell_type": "code",
   "execution_count": 21,
   "metadata": {
    "ExecuteTime": {
     "end_time": "2020-05-14T10:07:05.226301Z",
     "start_time": "2020-05-14T10:07:04.869947Z"
    }
   },
   "outputs": [
    {
     "name": "stdout",
     "output_type": "stream",
     "text": [
      "10000/10000 - 0s - loss: 0.1615 - acc: 0.9527\n"
     ]
    },
    {
     "data": {
      "text/plain": [
       "[0.1614736468464136, 0.9527]"
      ]
     },
     "execution_count": 21,
     "metadata": {},
     "output_type": "execute_result"
    }
   ],
   "source": [
    "model.evaluate(x_test,y_test,verbose=2)"
   ]
  },
  {
   "cell_type": "code",
   "execution_count": 24,
   "metadata": {
    "ExecuteTime": {
     "end_time": "2020-05-14T12:27:52.882604Z",
     "start_time": "2020-05-14T12:25:02.114225Z"
    }
   },
   "outputs": [
    {
     "name": "stdout",
     "output_type": "stream",
     "text": [
      "Train on 60000 samples\n",
      "Epoch 1/10\n",
      "60000/60000 [==============================] - 17s 279us/sample - loss: 0.2689 - acc: 0.9188\n",
      "Epoch 2/10\n",
      "60000/60000 [==============================] - 16s 273us/sample - loss: 0.1061 - acc: 0.9670\n",
      "Epoch 3/10\n",
      "60000/60000 [==============================] - 16s 275us/sample - loss: 0.0679 - acc: 0.9786\n",
      "Epoch 4/10\n",
      "60000/60000 [==============================] - 16s 272us/sample - loss: 0.0471 - acc: 0.9847\n",
      "Epoch 5/10\n",
      "60000/60000 [==============================] - 17s 278us/sample - loss: 0.0357 - acc: 0.9883\n",
      "Epoch 6/10\n",
      "60000/60000 [==============================] - 17s 279us/sample - loss: 0.0266 - acc: 0.9910\n",
      "Epoch 7/10\n",
      "60000/60000 [==============================] - 17s 281us/sample - loss: 0.0203 - acc: 0.9933\n",
      "Epoch 8/10\n",
      "60000/60000 [==============================] - 19s 320us/sample - loss: 0.0190 - acc: 0.9936\n",
      "Epoch 9/10\n",
      "60000/60000 [==============================] - 17s 283us/sample - loss: 0.0151 - acc: 0.9947\n",
      "Epoch 10/10\n",
      "60000/60000 [==============================] - 18s 295us/sample - loss: 0.0136 - acc: 0.9951\n",
      "10000/10000 - 1s - loss: 0.1058 - acc: 0.9772\n"
     ]
    },
    {
     "data": {
      "text/plain": [
       "[0.10578790178668859, 0.9772]"
      ]
     },
     "execution_count": 24,
     "metadata": {},
     "output_type": "execute_result"
    }
   ],
   "source": [
    "inputs = tf.keras.Input(shape=(28, 28))\n",
    "x = tf.keras.layers.Flatten()(inputs)\n",
    "out = tf.keras.layers.Dense(300,activation='sigmoid')(x)\n",
    "mid = tf.keras.layers.Dense(100,activation='relu')(out)\n",
    "outputs = tf.keras.layers.Dense(10, activation=\"softmax\")(mid)\n",
    "model = tf.keras.Model(inputs, outputs, name=\"mono_couche_softmax\")\n",
    "#model.summary()\n",
    "model.compile(\n",
    "    optimizer=\"adam\",\n",
    "    loss=\"categorical_crossentropy\",\n",
    "    metrics=[tf.keras.metrics.CategoricalAccuracy(name=\"acc\")],\n",
    ")\n",
    "batch_size = 64\n",
    "history = model.fit(x_train, y_train, batch_size=10, epochs=10)\n",
    "model.evaluate(x_test,y_test,verbose=2)"
   ]
  },
  {
   "cell_type": "code",
   "execution_count": 25,
   "metadata": {
    "ExecuteTime": {
     "end_time": "2020-05-14T12:27:52.892614Z",
     "start_time": "2020-05-14T12:27:52.885600Z"
    }
   },
   "outputs": [
    {
     "name": "stdout",
     "output_type": "stream",
     "text": [
      "Model: \"mono_couche_softmax\"\n",
      "_________________________________________________________________\n",
      "Layer (type)                 Output Shape              Param #   \n",
      "=================================================================\n",
      "input_4 (InputLayer)         [(None, 28, 28)]          0         \n",
      "_________________________________________________________________\n",
      "flatten_3 (Flatten)          (None, 784)               0         \n",
      "_________________________________________________________________\n",
      "dense_6 (Dense)              (None, 300)               235500    \n",
      "_________________________________________________________________\n",
      "dense_7 (Dense)              (None, 100)               30100     \n",
      "_________________________________________________________________\n",
      "dense_8 (Dense)              (None, 10)                1010      \n",
      "=================================================================\n",
      "Total params: 266,610\n",
      "Trainable params: 266,610\n",
      "Non-trainable params: 0\n",
      "_________________________________________________________________\n"
     ]
    }
   ],
   "source": [
    "model.summary()"
   ]
  },
  {
   "cell_type": "code",
   "execution_count": 27,
   "metadata": {
    "ExecuteTime": {
     "end_time": "2020-05-15T08:20:06.332293Z",
     "start_time": "2020-05-15T08:20:04.064272Z"
    }
   },
   "outputs": [
    {
     "name": "stdout",
     "output_type": "stream",
     "text": [
      "WARNING:tensorflow:From C:\\Users\\utilisateur\\Anaconda3\\lib\\site-packages\\tensorflow_core\\python\\ops\\resource_variable_ops.py:1786: calling BaseResourceVariable.__init__ (from tensorflow.python.ops.resource_variable_ops) with constraint is deprecated and will be removed in a future version.\n",
      "Instructions for updating:\n",
      "If using Keras pass *_constraint arguments to layers.\n",
      "INFO:tensorflow:Assets written to: my_model\\assets\n"
     ]
    }
   ],
   "source": [
    "model.save('my_model')"
   ]
  },
  {
   "cell_type": "code",
   "execution_count": 54,
   "metadata": {
    "ExecuteTime": {
     "end_time": "2020-05-15T10:57:42.732239Z",
     "start_time": "2020-05-15T10:57:42.668278Z"
    }
   },
   "outputs": [
    {
     "data": {
      "text/plain": [
       "array([[1.9433809e-23, 4.7761046e-13, 2.5989832e-16, 1.1468274e-03,\n",
       "        1.6228594e-21, 9.9885321e-01, 6.2045368e-21, 1.8963943e-15,\n",
       "        5.2437831e-17, 3.3209359e-13]], dtype=float32)"
      ]
     },
     "execution_count": 54,
     "metadata": {},
     "output_type": "execute_result"
    }
   ],
   "source": [
    "model.predict(x_train[0:1])"
   ]
  },
  {
   "cell_type": "code",
   "execution_count": 55,
   "metadata": {
    "ExecuteTime": {
     "end_time": "2020-05-15T10:58:13.335744Z",
     "start_time": "2020-05-15T10:58:13.280795Z"
    }
   },
   "outputs": [
    {
     "data": {
      "text/plain": [
       "5"
      ]
     },
     "execution_count": 55,
     "metadata": {},
     "output_type": "execute_result"
    }
   ],
   "source": [
    "pred = model.predict(x_train[0:1])\n",
    "pred.argmax()"
   ]
  },
  {
   "cell_type": "code",
   "execution_count": 60,
   "metadata": {
    "ExecuteTime": {
     "end_time": "2020-05-15T10:59:55.154469Z",
     "start_time": "2020-05-15T10:59:54.790677Z"
    }
   },
   "outputs": [
    {
     "data": {
      "image/png": "[encoded data removed]",
      "text/plain": [
       "<Figure size 432x288 with 1 Axes>"
      ]
     },
     "metadata": {
      "needs_background": "light"
     },
     "output_type": "display_data"
    }
   ],
   "source": [
    "import matplotlib.pyplot as plt\n",
    "plt.imshow(x_train[0], cmap='gray')\n",
    "plt.show()"
   ]
  },
  {
   "cell_type": "code",
   "execution_count": 64,
   "metadata": {
    "ExecuteTime": {
     "end_time": "2020-05-15T12:45:40.395361Z",
     "start_time": "2020-05-15T12:45:40.344391Z"
    }
   },
   "outputs": [],
   "source": [
    "import tensorflow.keras\n",
    "from tensorflow.keras.datasets import mnist\n",
    "from tensorflow.keras.models import Sequential\n",
    "from tensorflow.keras.layers import Dense, Flatten\n",
    "from tensorflow.keras.layers import Conv2D"
   ]
  },
  {
   "cell_type": "code",
   "execution_count": 66,
   "metadata": {
    "ExecuteTime": {
     "end_time": "2020-05-15T12:45:54.352533Z",
     "start_time": "2020-05-15T12:45:54.162541Z"
    }
   },
   "outputs": [
    {
     "name": "stdout",
     "output_type": "stream",
     "text": [
      "Model: \"conv1\"\n",
      "_________________________________________________________________\n",
      "Layer (type)                 Output Shape              Param #   \n",
      "=================================================================\n",
      "conv2d_1 (Conv2D)            (None, 26, 26, 32)        320       \n",
      "_________________________________________________________________\n",
      "flatten_5 (Flatten)          (None, 21632)             0         \n",
      "_________________________________________________________________\n",
      "dense_10 (Dense)             (None, 128)               2769024   \n",
      "_________________________________________________________________\n",
      "dense_11 (Dense)             (None, 10)                1290      \n",
      "=================================================================\n",
      "Total params: 2,770,634\n",
      "Trainable params: 2,770,634\n",
      "Non-trainable params: 0\n",
      "_________________________________________________________________\n"
     ]
    }
   ],
   "source": [
    "model = Sequential(name=\"conv1\")\n",
    "model.add(Conv2D(32, kernel_size=(3, 3),\n",
    "                 activation='relu',\n",
    "                 input_shape=(28, 28, 1)))\n",
    "model.add(Flatten())\n",
    "model.add(Dense(128, activation='relu'))\n",
    "model.add(Dense(10, activation='softmax'))\n",
    "model.compile(loss='categorical_crossentropy', optimizer='adam',\n",
    "              metrics=['accuracy'])\n",
    "model.summary()"
   ]
  },
  {
   "cell_type": "code",
   "execution_count": 69,
   "metadata": {
    "ExecuteTime": {
     "end_time": "2020-05-15T12:48:28.205847Z",
     "start_time": "2020-05-15T12:48:28.199848Z"
    }
   },
   "outputs": [],
   "source": [
    "x_train = x_train.reshape(x_train.shape[0], 28, 28, 1)\n",
    "x_test = x_test.reshape(x_test.shape[0], 28, 28, 1)"
   ]
  },
  {
   "cell_type": "code",
   "execution_count": 70,
   "metadata": {
    "ExecuteTime": {
     "end_time": "2020-05-15T12:56:00.969506Z",
     "start_time": "2020-05-15T12:48:29.610439Z"
    }
   },
   "outputs": [
    {
     "name": "stdout",
     "output_type": "stream",
     "text": [
      "Train on 60000 samples, validate on 10000 samples\n",
      "Epoch 1/10\n",
      "60000/60000 - 44s - loss: 0.1445 - accuracy: 0.9570 - val_loss: 0.0597 - val_accuracy: 0.9798\n",
      "Epoch 2/10\n",
      "60000/60000 - 43s - loss: 0.0443 - accuracy: 0.9862 - val_loss: 0.0604 - val_accuracy: 0.9809\n",
      "Epoch 3/10\n",
      "60000/60000 - 43s - loss: 0.0236 - accuracy: 0.9926 - val_loss: 0.0514 - val_accuracy: 0.9846\n",
      "Epoch 4/10\n",
      "60000/60000 - 42s - loss: 0.0141 - accuracy: 0.9955 - val_loss: 0.0580 - val_accuracy: 0.9820\n",
      "Epoch 5/10\n",
      "60000/60000 - 45s - loss: 0.0091 - accuracy: 0.9974 - val_loss: 0.0641 - val_accuracy: 0.9829\n",
      "Epoch 6/10\n",
      "60000/60000 - 48s - loss: 0.0072 - accuracy: 0.9977 - val_loss: 0.0754 - val_accuracy: 0.9822\n",
      "Epoch 7/10\n",
      "60000/60000 - 45s - loss: 0.0062 - accuracy: 0.9982 - val_loss: 0.0754 - val_accuracy: 0.9827\n",
      "Epoch 8/10\n",
      "60000/60000 - 47s - loss: 0.0060 - accuracy: 0.9981 - val_loss: 0.0636 - val_accuracy: 0.9849\n",
      "Epoch 9/10\n",
      "60000/60000 - 49s - loss: 0.0038 - accuracy: 0.9987 - val_loss: 0.0776 - val_accuracy: 0.9824\n",
      "Epoch 10/10\n",
      "60000/60000 - 44s - loss: 0.0047 - accuracy: 0.9985 - val_loss: 0.0647 - val_accuracy: 0.9856\n"
     ]
    },
    {
     "data": {
      "text/plain": [
       "<tensorflow.python.keras.callbacks.History at 0x1f35431a6c8>"
      ]
     },
     "execution_count": 70,
     "metadata": {},
     "output_type": "execute_result"
    }
   ],
   "source": [
    "model.fit(x_train, y_train,\n",
    "          batch_size=batch_size,\n",
    "          epochs=10,\n",
    "          verbose=2,\n",
    "          validation_data=(x_test, y_test))"
   ]
  },
  {
   "cell_type": "code",
   "execution_count": 71,
   "metadata": {
    "ExecuteTime": {
     "end_time": "2020-05-15T13:00:49.710594Z",
     "start_time": "2020-05-15T13:00:46.583867Z"
    }
   },
   "outputs": [
    {
     "name": "stdout",
     "output_type": "stream",
     "text": [
      "10000/10000 - 3s - loss: 0.0647 - accuracy: 0.9856\n"
     ]
    },
    {
     "data": {
      "text/plain": [
       "[0.06474957247209229, 0.9856]"
      ]
     },
     "execution_count": 71,
     "metadata": {},
     "output_type": "execute_result"
    }
   ],
   "source": [
    "model.evaluate(x_test,y_test,verbose=2)"
   ]
  },
  {
   "cell_type": "code",
   "execution_count": 76,
   "metadata": {
    "ExecuteTime": {
     "end_time": "2020-05-15T14:33:10.639818Z",
     "start_time": "2020-05-15T14:33:10.476394Z"
    }
   },
   "outputs": [
    {
     "data": {
      "text/plain": [
       "array([[6.0827373e-19, 1.1120219e-17, 3.4048902e-19, 1.0799486e-04,\n",
       "        4.1091457e-21, 9.9989200e-01, 1.6473605e-16, 2.2622993e-16,\n",
       "        5.8350392e-14, 1.2923922e-08]], dtype=float32)"
      ]
     },
     "execution_count": 76,
     "metadata": {},
     "output_type": "execute_result"
    }
   ],
   "source": [
    "model.predict(x_train[0:1])"
   ]
  },
  {
   "cell_type": "code",
   "execution_count": 74,
   "metadata": {
    "ExecuteTime": {
     "end_time": "2020-05-15T14:00:07.355509Z",
     "start_time": "2020-05-15T14:00:05.743747Z"
    }
   },
   "outputs": [
    {
     "name": "stdout",
     "output_type": "stream",
     "text": [
      "INFO:tensorflow:Assets written to: conv_model\\assets\n"
     ]
    }
   ],
   "source": [
    "model.save('conv_model')"
   ]
  },
  {
   "cell_type": "code",
   "execution_count": null,
   "metadata": {},
   "outputs": [],
   "source": []
  }
 ],
 "metadata": {
  "kernelspec": {
   "display_name": "Python 3",
   "language": "python",
   "name": "python3"
  },
  "language_info": {
   "codemirror_mode": {
    "name": "ipython",
    "version": 3
   },
   "file_extension": ".py",
   "mimetype": "text/x-python",
   "name": "python",
   "nbconvert_exporter": "python",
   "pygments_lexer": "ipython3",
   "version": "3.7.4"
  }
 },
 "nbformat": 4,
 "nbformat_minor": 4
}
